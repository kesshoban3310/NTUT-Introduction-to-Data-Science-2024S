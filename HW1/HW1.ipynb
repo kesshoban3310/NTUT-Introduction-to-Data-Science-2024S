{
 "cells": [
  {
   "cell_type": "markdown",
   "metadata": {},
   "source": [
    "Please add your personal information at the first cell by \"Markdown\" selection.\n",
    "# 2024-Spring DS HW1\n",
    "## Due: 2024/03/12 23:59\n",
    "## 檔名請更為HW1_${學號}.ipynb 例如:HW1_111598084.ipynb\n",
    "### Problem1: \n",
    "- (a) Draw the box-and-whisker plot of the following data in Jupyter Notebook.\n",
    "- (b) Describe the outlier/extreme values of the data set.\n",
    "- Data: 14.7, 14.4, 8.2, 10.7, 14.6, 14.1, 14.4, 14.4, 18.2, 14.5, 14.5, 14.7, 14.9, 15.1, 15.9, 25.0\n",
    "\n",
    "### Problem2: \n",
    "好的資料探勘專案都是從解決有趣的問題開始，以自己目前的背景提出一個未來可能要解決的資料探勘專案為何(發揮想像力)?可以收集的資料為何? 可能資料特徵有哪些? 可能會使用哪一種資料庫模式?\n",
    "\n",
    "### Problem3: \n",
    "Use Jupyter to write a function of calculating \"Factorial\" for an input integer \"a\".\n",
    "Add some function usage information. "
   ]
  },
  {
   "cell_type": "markdown",
   "metadata": {},
   "source": []
  },
  {
   "cell_type": "code",
   "execution_count": 3,
   "outputs": [
    {
     "data": {
      "text/plain": "<Figure size 500x1000 with 1 Axes>",
      "image/png": "[encoded data removed]"
     },
     "metadata": {},
     "output_type": "display_data"
    },
    {
     "name": "stdout",
     "output_type": "stream",
     "text": [
      "[8.2, 10.7, 14.1, 14.4, 14.4, 14.4, 14.5, 14.5, 14.6, 14.7, 14.7, 14.9, 15.1, 15.9, 18.2, 25.0]\n"
     ]
    }
   ],
   "source": [
    "# Solve Problem1-(a)\n",
    "# HW wroted by 111590004 in 2024/03/07\n",
    "#\n",
    "import matplotlib.pyplot as plt\n",
    "import numpy as np\n",
    "\n",
    "\n",
    "a = [14.7, 14.4, 8.2, 10.7, 14.6, 14.1, 14.4, 14.4, 18.2, 14.5, 14.5, 14.7, 14.9, 15.1, 15.9, 25.0]\n",
    "a = sorted(a)\n",
    "Img = plt.figure(figsize=(5,10))\n",
    "plt.boxplot(a)\n",
    "plt.show()\n",
    "\n",
    "\n",
    "print(a)"
   ],
   "metadata": {
    "collapsed": false,
    "ExecuteTime": {
     "end_time": "2024-03-08T15:42:11.908884Z",
     "start_time": "2024-03-08T15:42:11.792193400Z"
    }
   }
  },
  {
   "cell_type": "markdown",
   "source": [],
   "metadata": {
    "collapsed": false
   }
  },
  {
   "cell_type": "markdown",
   "source": [
    "# Solve Problem1-(b)\n",
    "#\n",
    "\n",
    "Q3 = (14.9+15.1) / 2  = 15.0\n",
    "Q2 = (14.5+14.6) / 2  = 14.55\n",
    "Q1 = (14.4+14.4) / 2  = 14.4  <br/>\n",
    "For outlier data: \n",
    "    $IQR = Q3-Q1 = 15.0-14.4 = 0.6 $ \n",
    "    $Q3+1.5IQR = 15.0+0.9 = 15.9$  \n",
    "    $Q1-1.5IQR = 14.4-0.9 = 13.5$\n",
    "    $8.2,10.7,15.9,18.2,25.0$ &nbsp; are outlier datas in the data set. <br/>\n",
    "For extreme data: \n",
    "    $Q3+3IQR = 15.0+1.8 = 16.8$\n",
    "    $Q1-3IQR = 14.4-1.8 = 12.4$\n",
    "    $8.2,10.7,18.2,25.0$ &nbsp; are extreme datas in the data set."
   ],
   "metadata": {
    "collapsed": false
   }
  },
  {
   "cell_type": "markdown",
   "source": [
    "# Solve Problem2\n",
    "#\n",
    "\n",
    "### 好的資料探勘專案都是從解決有趣的問題開始，以自己目前的背景提出一個未來可能要解決的資料探勘專案為何(發揮想像力)?\n",
    "    \n",
    "    股市指數,股市指數是表示根據某些指標所篩選出的公司所編成的指數。\n",
    "\n",
    "### 可以收集的資料為何? 可能資料特徵有哪些? 可能會使用哪一種資料庫模式?\n",
    "\n",
    "    主要是一些公司的財報內容,該公司在股票市場上發行股數、股價、以及日平均成交量等等。\n",
    "        \n",
    "    資料特徵，以每日的股數、股價、以及日平均成交量等等，搭配該公司的每季財報作出基本面篩選。\n",
    "    大部分資料以字串與數字為主\n",
    "\n",
    "    結構化資料庫，因為這些數據只需要單純的行列去存儲，"
   ],
   "metadata": {
    "collapsed": false
   }
  },
  {
   "cell_type": "code",
   "execution_count": 4,
   "outputs": [
    {
     "name": "stdout",
     "output_type": "stream",
     "text": [
      "933262154439441526816992388562667004907159682643816214685929638952175999932299156089414639761565182862536979208272237582511852109168640000000000000000000000\n"
     ]
    }
   ],
   "source": [
    "# Solve Problem3\n",
    "\n",
    "def cal_fac(num): # calculate Factorial\n",
    "    if(num == 0 or num == 1):\n",
    "        return 1\n",
    "    return num * cal_fac(num-1) # Using recursive\n",
    "\n",
    "a = int(input()) # input a number\n",
    "\n",
    "print(cal_fac(a)) # print calculate result"
   ],
   "metadata": {
    "collapsed": false,
    "ExecuteTime": {
     "end_time": "2024-03-08T16:04:20.200159200Z",
     "start_time": "2024-03-08T16:04:17.001387100Z"
    }
   }
  },
  {
   "cell_type": "code",
   "execution_count": null,
   "outputs": [],
   "source": [],
   "metadata": {
    "collapsed": false
   }
  }
 ],
 "metadata": {
  "language_info": {
   "name": "python"
  },
  "kernelspec": {
   "name": "python3",
   "language": "python",
   "display_name": "Python 3 (ipykernel)"
  }
 },
 "nbformat": 4,
 "nbformat_minor": 2
}
