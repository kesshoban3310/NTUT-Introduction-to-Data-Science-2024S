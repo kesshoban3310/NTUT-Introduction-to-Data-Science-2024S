{
 "cells": [
  {
   "cell_type": "markdown",
   "metadata": {},
   "source": [
    "Please add your personal information at the first cell by \"Markdown\" selection.\n",
    "# 2024-Spring DS HW4\n",
    "## Due: 2024/05/24 23:59\n",
    "### 請自行注意期限，不接受補繳\n",
    "## 檔名請更為HW3_${學號}.ipynb 例如:HW4_111598084.ipynb\n"
   ]
  },
  {
   "cell_type": "markdown",
   "metadata": {},
   "source": [
    "### Problem1:\n",
    "- 請參考Lab9，比較並繪製金磚五國（BRICS）Covid19疫情的確診趨勢圖(至少要畫出Trajectory圖)，分別為巴西、俄羅斯、印度、中華人民共和國、南非。\n"
   ]
  },
  {
   "cell_type": "code",
   "outputs": [
    {
     "data": {
      "text/plain": "Country/Region  Russia  China  India  South Africa  Brazil\nDate                                                      \n2020-01-22           0    548      0             0       0\n2020-01-23           0    643      0             0       0\n2020-01-24           0    920      0             0       0\n2020-01-25           0   1406      0             0       0\n2020-01-26           0   2075      0             0       0\n2020-01-27           0   2877      0             0       0\n2020-01-28           0   5509      0             0       0\n2020-01-29           0   6087      0             0       0\n2020-01-30           0   8141      1             0       0\n2020-01-31           2   9802      1             0       0\n2020-01-02           2  11891      1             0       0\n2020-02-02           2  16630      2             0       0\n2020-03-02           2  19716      3             0       0\n2020-04-02           2  23707      3             0       0\n2020-05-02           2  27440      3             0       0\n2020-06-02           2  30587      3             0       0\n2020-07-02           2  34110      3             0       0\n2020-08-02           2  36814      3             0       0\n2020-09-02           2  39829      3             0       0\n2020-10-02           2  42354      3             0       0",
      "text/html": "<div>\n<style scoped>\n    .dataframe tbody tr th:only-of-type {\n        vertical-align: middle;\n    }\n\n    .dataframe tbody tr th {\n        vertical-align: top;\n    }\n\n    .dataframe thead th {\n        text-align: right;\n    }\n</style>\n<table border=\"1\" class=\"dataframe\">\n  <thead>\n    <tr style=\"text-align: right;\">\n      <th>Country/Region</th>\n      <th>Russia</th>\n      <th>China</th>\n      <th>India</th>\n      <th>South Africa</th>\n      <th>Brazil</th>\n    </tr>\n    <tr>\n      <th>Date</th>\n      <th></th>\n      <th></th>\n      <th></th>\n      <th></th>\n      <th></th>\n    </tr>\n  </thead>\n  <tbody>\n    <tr>\n      <th>2020-01-22</th>\n      <td>0</td>\n      <td>548</td>\n      <td>0</td>\n      <td>0</td>\n      <td>0</td>\n    </tr>\n    <tr>\n      <th>2020-01-23</th>\n      <td>0</td>\n      <td>643</td>\n      <td>0</td>\n      <td>0</td>\n      <td>0</td>\n    </tr>\n    <tr>\n      <th>2020-01-24</th>\n      <td>0</td>\n      <td>920</td>\n      <td>0</td>\n      <td>0</td>\n      <td>0</td>\n    </tr>\n    <tr>\n      <th>2020-01-25</th>\n      <td>0</td>\n      <td>1406</td>\n      <td>0</td>\n      <td>0</td>\n      <td>0</td>\n    </tr>\n    <tr>\n      <th>2020-01-26</th>\n      <td>0</td>\n      <td>2075</td>\n      <td>0</td>\n      <td>0</td>\n      <td>0</td>\n    </tr>\n    <tr>\n      <th>2020-01-27</th>\n      <td>0</td>\n      <td>2877</td>\n      <td>0</td>\n      <td>0</td>\n      <td>0</td>\n    </tr>\n    <tr>\n      <th>2020-01-28</th>\n      <td>0</td>\n      <td>5509</td>\n      <td>0</td>\n      <td>0</td>\n      <td>0</td>\n    </tr>\n    <tr>\n      <th>2020-01-29</th>\n      <td>0</td>\n      <td>6087</td>\n      <td>0</td>\n      <td>0</td>\n      <td>0</td>\n    </tr>\n    <tr>\n      <th>2020-01-30</th>\n      <td>0</td>\n      <td>8141</td>\n      <td>1</td>\n      <td>0</td>\n      <td>0</td>\n    </tr>\n    <tr>\n      <th>2020-01-31</th>\n      <td>2</td>\n      <td>9802</td>\n      <td>1</td>\n      <td>0</td>\n      <td>0</td>\n    </tr>\n    <tr>\n      <th>2020-01-02</th>\n      <td>2</td>\n      <td>11891</td>\n      <td>1</td>\n      <td>0</td>\n      <td>0</td>\n    </tr>\n    <tr>\n      <th>2020-02-02</th>\n      <td>2</td>\n      <td>16630</td>\n      <td>2</td>\n      <td>0</td>\n      <td>0</td>\n    </tr>\n    <tr>\n      <th>2020-03-02</th>\n      <td>2</td>\n      <td>19716</td>\n      <td>3</td>\n      <td>0</td>\n      <td>0</td>\n    </tr>\n    <tr>\n      <th>2020-04-02</th>\n      <td>2</td>\n      <td>23707</td>\n      <td>3</td>\n      <td>0</td>\n      <td>0</td>\n    </tr>\n    <tr>\n      <th>2020-05-02</th>\n      <td>2</td>\n      <td>27440</td>\n      <td>3</td>\n      <td>0</td>\n      <td>0</td>\n    </tr>\n    <tr>\n      <th>2020-06-02</th>\n      <td>2</td>\n      <td>30587</td>\n      <td>3</td>\n      <td>0</td>\n      <td>0</td>\n    </tr>\n    <tr>\n      <th>2020-07-02</th>\n      <td>2</td>\n      <td>34110</td>\n      <td>3</td>\n      <td>0</td>\n      <td>0</td>\n    </tr>\n    <tr>\n      <th>2020-08-02</th>\n      <td>2</td>\n      <td>36814</td>\n      <td>3</td>\n      <td>0</td>\n      <td>0</td>\n    </tr>\n    <tr>\n      <th>2020-09-02</th>\n      <td>2</td>\n      <td>39829</td>\n      <td>3</td>\n      <td>0</td>\n      <td>0</td>\n    </tr>\n    <tr>\n      <th>2020-10-02</th>\n      <td>2</td>\n      <td>42354</td>\n      <td>3</td>\n      <td>0</td>\n      <td>0</td>\n    </tr>\n  </tbody>\n</table>\n</div>"
     },
     "execution_count": 32,
     "metadata": {},
     "output_type": "execute_result"
    }
   ],
   "source": [
    "import numpy as np\n",
    "import pandas as pd\n",
    "import matplotlib.pyplot as plt\n",
    "import os\n",
    "CheckFileExist = os.path.isfile('DS_Hw3_111590004.csv')\n",
    "\n",
    "#Get File\n",
    "if(not CheckFileExist):\n",
    "    url = 'https://raw.githubusercontent.com/CSSEGISandData/COVID-19/master/csse_covid_19_data/csse_covid_19_time_series/time_series_covid19_confirmed_global.csv'\n",
    "    confirmed_cases = pd.read_csv(url)\n",
    "    confirmed_cases.to_csv(\"DS_Hw3_111590004.csv\")\n",
    "else:\n",
    "    confirmed_cases = pd.read_csv('DS_Hw3_111590004.csv')\n",
    "confirmed_cases = pd.DataFrame(confirmed_cases)    \n",
    "\n",
    "# Data Processing\n",
    "RegionConfirmedCases = confirmed_cases.groupby('Country/Region').sum()\n",
    "RegionConfirmedCases.drop(columns=['Lat','Long','Unnamed: 0','Province/State'],inplace = True)\n",
    "RegionConfirmedCases.columns = pd.to_datetime(RegionConfirmedCases.columns,format = 'mixed',dayfirst=True)\n",
    "\n",
    "RegionConfirmedCases = RegionConfirmedCases.transpose()\n",
    "RegionConfirmedCases.index.name = 'Date'\n",
    "\n",
    "#Get Countries Data\n",
    "contries = ['Russia','China','India','South Africa','Brazil']\n",
    "CountryConfirmedCases = RegionConfirmedCases[contries]\n",
    "CountryConfirmedCases.head(20)"
   ],
   "metadata": {
    "collapsed": false,
    "ExecuteTime": {
     "end_time": "2024-05-22T03:11:51.308254900Z",
     "start_time": "2024-05-22T03:11:51.201767200Z"
    }
   },
   "execution_count": 32
  },
  {
   "cell_type": "markdown",
   "metadata": {},
   "source": [
    "### Problem2: 手寫過程在紙上後拍照用Markdown附上\n",
    "- 如何使用Naïve Bayes classifier技術判斷下列表格的第八份文件(Test Document)是一份高興的文件或是不高興的文件? \n",
    "- 指定為高興(h)文件或是不高興(~h)文件的機率各自為何?\n",
    "\n",
    "| RID | type | text | \n",
    "| :-: | :-: | :-: | \n",
    "| D1 | Happy(h) | love happy happy joy smile angry |\n",
    "| D2 | Happy(h) | cry happy joy love happy |\n",
    "| D3 | Happy(h) | good happy love cry love |\n",
    "| D4 | Happy(h) | pain love happy joy love |\n",
    "| D5 | Unhappy(~h) | love angry pain pain |\n",
    "| D6 | Unhappy(~h) | love angry pain |\n",
    "| D7 | Unhappy(~h) | angry angry pain |\n",
    "| D8 | ?? | cry love angry pain |\n"
   ]
  },
  {
   "cell_type": "markdown",
   "metadata": {},
   "source": []
  }
 ],
 "metadata": {
  "kernelspec": {
   "display_name": "biolabel",
   "language": "python",
   "name": "python3"
  },
  "language_info": {
   "codemirror_mode": {
    "name": "ipython",
    "version": 3
   },
   "file_extension": ".py",
   "mimetype": "text/x-python",
   "name": "python",
   "nbconvert_exporter": "python",
   "pygments_lexer": "ipython3",
   "version": "3.11.5"
  }
 },
 "nbformat": 4,
 "nbformat_minor": 2
}
