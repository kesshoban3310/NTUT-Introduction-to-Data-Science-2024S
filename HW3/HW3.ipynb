{
 "cells": [
  {
   "cell_type": "markdown",
   "metadata": {},
   "source": [
    "Please add your personal information at the first cell by \"Markdown\" selection.\n",
    "# 2024-Spring DS HW3\n",
    "## Due: 2024/04/19 23:59\n",
    "## 檔名請更為HW3_${學號}.ipynb 例如:HW3_111598084.ipynb\n"
   ]
  },
  {
   "cell_type": "markdown",
   "metadata": {},
   "source": [
    "### Problem1:\n",
    "- 請參考Lab5，繪製台積電在2023年的收盤價及開盤價的趨勢圖。\n"
   ]
  },
  {
   "cell_type": "code",
   "execution_count": 9,
   "outputs": [
    {
     "data": {
      "text/plain": "            date Stock_name Opening_price\n453     20230103        台積電        446.00\n1634    20230104        台積電        449.50\n2815    20230105        台積電        459.00\n3996    20230106        台積電        455.00\n5177    20230109        台積電        468.00\n...          ...        ...           ...\n280610  20231225        台積電        582.00\n281832  20231226        台積電        583.00\n283054  20231227        台積電        587.00\n284276  20231228        台積電        592.00\n285498  20231229        台積電        589.00\n\n[239 rows x 3 columns]",
      "text/html": "<div>\n<style scoped>\n    .dataframe tbody tr th:only-of-type {\n        vertical-align: middle;\n    }\n\n    .dataframe tbody tr th {\n        vertical-align: top;\n    }\n\n    .dataframe thead th {\n        text-align: right;\n    }\n</style>\n<table border=\"1\" class=\"dataframe\">\n  <thead>\n    <tr style=\"text-align: right;\">\n      <th></th>\n      <th>date</th>\n      <th>Stock_name</th>\n      <th>Opening_price</th>\n    </tr>\n  </thead>\n  <tbody>\n    <tr>\n      <th>453</th>\n      <td>20230103</td>\n      <td>台積電</td>\n      <td>446.00</td>\n    </tr>\n    <tr>\n      <th>1634</th>\n      <td>20230104</td>\n      <td>台積電</td>\n      <td>449.50</td>\n    </tr>\n    <tr>\n      <th>2815</th>\n      <td>20230105</td>\n      <td>台積電</td>\n      <td>459.00</td>\n    </tr>\n    <tr>\n      <th>3996</th>\n      <td>20230106</td>\n      <td>台積電</td>\n      <td>455.00</td>\n    </tr>\n    <tr>\n      <th>5177</th>\n      <td>20230109</td>\n      <td>台積電</td>\n      <td>468.00</td>\n    </tr>\n    <tr>\n      <th>...</th>\n      <td>...</td>\n      <td>...</td>\n      <td>...</td>\n    </tr>\n    <tr>\n      <th>280610</th>\n      <td>20231225</td>\n      <td>台積電</td>\n      <td>582.00</td>\n    </tr>\n    <tr>\n      <th>281832</th>\n      <td>20231226</td>\n      <td>台積電</td>\n      <td>583.00</td>\n    </tr>\n    <tr>\n      <th>283054</th>\n      <td>20231227</td>\n      <td>台積電</td>\n      <td>587.00</td>\n    </tr>\n    <tr>\n      <th>284276</th>\n      <td>20231228</td>\n      <td>台積電</td>\n      <td>592.00</td>\n    </tr>\n    <tr>\n      <th>285498</th>\n      <td>20231229</td>\n      <td>台積電</td>\n      <td>589.00</td>\n    </tr>\n  </tbody>\n</table>\n<p>239 rows × 3 columns</p>\n</div>"
     },
     "metadata": {},
     "output_type": "display_data"
    },
    {
     "data": {
      "text/plain": "            date Stock_name     收盤價\n453     20230103        台積電  453.00\n1634    20230104        台積電  449.50\n2815    20230105        台積電  458.50\n3996    20230106        台積電  458.50\n5177    20230109        台積電  481.00\n...          ...        ...     ...\n280610  20231225        台積電  581.00\n281832  20231226        台積電  586.00\n283054  20231227        台積電  592.00\n284276  20231228        台積電  593.00\n285498  20231229        台積電  593.00\n\n[239 rows x 3 columns]",
      "text/html": "<div>\n<style scoped>\n    .dataframe tbody tr th:only-of-type {\n        vertical-align: middle;\n    }\n\n    .dataframe tbody tr th {\n        vertical-align: top;\n    }\n\n    .dataframe thead th {\n        text-align: right;\n    }\n</style>\n<table border=\"1\" class=\"dataframe\">\n  <thead>\n    <tr style=\"text-align: right;\">\n      <th></th>\n      <th>date</th>\n      <th>Stock_name</th>\n      <th>收盤價</th>\n    </tr>\n  </thead>\n  <tbody>\n    <tr>\n      <th>453</th>\n      <td>20230103</td>\n      <td>台積電</td>\n      <td>453.00</td>\n    </tr>\n    <tr>\n      <th>1634</th>\n      <td>20230104</td>\n      <td>台積電</td>\n      <td>449.50</td>\n    </tr>\n    <tr>\n      <th>2815</th>\n      <td>20230105</td>\n      <td>台積電</td>\n      <td>458.50</td>\n    </tr>\n    <tr>\n      <th>3996</th>\n      <td>20230106</td>\n      <td>台積電</td>\n      <td>458.50</td>\n    </tr>\n    <tr>\n      <th>5177</th>\n      <td>20230109</td>\n      <td>台積電</td>\n      <td>481.00</td>\n    </tr>\n    <tr>\n      <th>...</th>\n      <td>...</td>\n      <td>...</td>\n      <td>...</td>\n    </tr>\n    <tr>\n      <th>280610</th>\n      <td>20231225</td>\n      <td>台積電</td>\n      <td>581.00</td>\n    </tr>\n    <tr>\n      <th>281832</th>\n      <td>20231226</td>\n      <td>台積電</td>\n      <td>586.00</td>\n    </tr>\n    <tr>\n      <th>283054</th>\n      <td>20231227</td>\n      <td>台積電</td>\n      <td>592.00</td>\n    </tr>\n    <tr>\n      <th>284276</th>\n      <td>20231228</td>\n      <td>台積電</td>\n      <td>593.00</td>\n    </tr>\n    <tr>\n      <th>285498</th>\n      <td>20231229</td>\n      <td>台積電</td>\n      <td>593.00</td>\n    </tr>\n  </tbody>\n</table>\n<p>239 rows × 3 columns</p>\n</div>"
     },
     "metadata": {},
     "output_type": "display_data"
    }
   ],
   "source": [
    "import pandas as pd\n",
    "import requests\n",
    "import time\n",
    "import datetime\n",
    "import os\n",
    "\n",
    "checkfile = os.path.isfile(\"DS_Hw3_111590004.csv\")\n",
    "\n",
    "def get2023_stock_file(): # Get 2023 stock file\n",
    "    stock_data = pd.DataFrame()\n",
    "    date = datetime.date(2023,1,2)\n",
    "    for i in range(362):\n",
    "        # 2023/01/02~2023/12/29 01/02是2023台股開盤第一天，12/29是台股封關日\n",
    "        urldate = str(date).replace('-','')\n",
    "        url = f'https://www.twse.com.tw/exchangeReport/MI_INDEX?response=json&date={urldate}&type=ALLBUT0999'\n",
    "        request = requests.get(url)\n",
    "        request_json = request.json()\n",
    "        if request_json['stat'] == 'OK':\n",
    "            stock = pd.DataFrame(request_json['data9'],columns=request_json['fields9'])\n",
    "            stock['date'] = urldate\n",
    "            stock_data = pd.concat([stock_data,stock])\n",
    "            print(\"Catch \" + str(date) +\" \"+ str(len(stock['證券代號'])) )\n",
    "        date += datetime.timedelta(days=1)\n",
    "        time.sleep(3)\n",
    "    # 因為使用Pycharm，所以這裡使用相對路徑，麻煩助教再批改作業時注意一下，有可能會使檔案儲存在其他位置\n",
    "    stock_data.to_csv(\"DS_Hw3_111590004.csv\")\n",
    "    \n",
    "if(checkfile == False): # 需要測試功能是否完整，應該是抓得到拉\n",
    "    get2023_stock_file()\n",
    "\n",
    "stock_data = pd.read_csv(\"DS_Hw3_111590004.csv\") #讀取CSV檔\n",
    "stock_data_opening = stock_data[['date','證券名稱','開盤價']]\n",
    "stock_data_closing = stock_data[['date','證券名稱','收盤價']]\n",
    "\n",
    "stock_data_opening = stock_data_opening.rename(columns={'證券名稱':'Stock_name'})\n",
    "stock_data_opening = stock_data_opening.rename(columns={'開盤價':'Opening_price'})\n",
    "\n",
    "stock_data_closing = stock_data_closing.rename(columns={'證券名稱':'Stock_name'})\n",
    "stock_data_closing = stock_data_closing.rename(columns={'開盤價':'Opening_price'})\n",
    "\n",
    "\n",
    "stock_data_TSMC_opening = stock_data_opening[stock_data_opening['Stock_name'] == '台積電']\n",
    "stock_data_TSMC_closing = stock_data_closing[stock_data_closing['Stock_name'] == '台積電']\n",
    "display(stock_data_TSMC_opening)\n",
    "display(stock_data_TSMC_closing)"
   ],
   "metadata": {
    "collapsed": false,
    "ExecuteTime": {
     "end_time": "2024-04-10T17:09:53.313992600Z",
     "start_time": "2024-04-10T17:09:52.252265600Z"
    }
   }
  },
  {
   "cell_type": "markdown",
   "metadata": {},
   "source": [
    "### Problem2: 手寫過程在紙上後拍照用Markdown附上\n",
    "- Construct a decision tree using ID3 algorithm for the database given in the following table.\n",
    "- Please document your process and results on paper, then take a picture and post it in this file.\n",
    "\n",
    "| RID | age | income | student | credit_rating | Class: buys_computer |\n",
    "| :-: | :-: | :-: | :-: | :-: | :-: |\n",
    "| 1 | youth | high | no | fair | no |\n",
    "| 2 | youth | high | no | excellent | no |\n",
    "| 3 | middle_aged | high | no | fair | yes |\n",
    "| 4 | senior | medium | no | fair | yes |\n",
    "| 5 | senior | low | yes | fair | yes |\n",
    "| 6 | senior | low | yes | excellent | no |\n",
    "| 7 | middle_aged | low | yes | excellent | yes |\n",
    "| 8 | youth | medium | no | fair | no |\n",
    "| 9 | youth | low | yes | fair | yes |\n",
    "| 10 | senior | medium | yes | fair | yes |\n",
    "| 11 | youth | medium | yes | excellent | yes |\n",
    "| 12 | middle_aged | medium | no | excellent | yes |\n",
    "| 13 | middle_aged | high | yes | fair | yes |\n",
    "| 14 | senior | medium | no | excellent | no |"
   ]
  },
  {
   "cell_type": "markdown",
   "metadata": {},
   "source": [
    "### Problem3: 參考Lab6\n",
    "1. 請計算　台積電、聯發科和聯電　2023年的股價平均值?\n",
    "2. 請分析2023/1/1-2023/12/31期間與台積電絕對值相關度排行第5名的股票是哪一支股票？劃出這兩支股票的股價圖表 (圖表必須包含圖例、座標軸名稱、標題、大小為(7,7))"
   ]
  },
  {
   "cell_type": "code",
   "execution_count": null,
   "outputs": [],
   "source": [],
   "metadata": {
    "collapsed": false
   }
  }
 ],
 "metadata": {
  "kernelspec": {
   "display_name": "biolabel",
   "language": "python",
   "name": "python3"
  },
  "language_info": {
   "codemirror_mode": {
    "name": "ipython",
    "version": 3
   },
   "file_extension": ".py",
   "mimetype": "text/x-python",
   "name": "python",
   "nbconvert_exporter": "python",
   "pygments_lexer": "ipython3",
   "version": "3.11.5"
  }
 },
 "nbformat": 4,
 "nbformat_minor": 2
}
